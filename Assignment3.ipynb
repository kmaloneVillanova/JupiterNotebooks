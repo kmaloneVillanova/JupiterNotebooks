{
 "cells": [
  {
   "cell_type": "code",
   "execution_count": 1,
   "id": "insured-reset",
   "metadata": {},
   "outputs": [
    {
     "data": {
      "text/html": [
       "<style>\n",
       "    table {\n",
       "        display: inline-block;\n",
       "        border:solid;\n",
       "        margin:5%;\n",
       "        margin-bottom: 20%;\n",
       "    }\n",
       "</style>\n"
      ],
      "text/plain": [
       "<IPython.core.display.HTML object>"
      ]
     },
     "metadata": {},
     "output_type": "display_data"
    }
   ],
   "source": [
    "%%html \n",
    "<style>\n",
    "    table {\n",
    "        display: inline-block;\n",
    "        border:solid;\n",
    "        margin:5%;\n",
    "        margin-bottom: 20%;\n",
    "    }\n",
    "</style>"
   ]
  },
  {
   "cell_type": "markdown",
   "id": "unexpected-handy",
   "metadata": {},
   "source": [
    "Kathleen Malone\n",
    "\n",
    "kmalone36\n",
    "\n",
    "Step 1 - download dataset\n",
    "\n",
    "Step 2\n",
    "\n",
    "Protected Classes\n",
    "\n",
    "I identified the following protected classes and members with the class in the dataset:\n",
    "\n",
    "Protected Class\n",
    "\n",
    "Sex - male, female, straight, heterosexual, lesbian, gay, bisexual, transgender, trans, queer, lgbt, lgbtq, homosexual, nonbinary\n",
    "\n",
    "I included nationalities in race. I put european and canadian into white.\n",
    "\n",
    "Race - white, european, canadian, african, african american, black,hispanic, latino, latina, latinx, mexican, asian, indian, middle eastern, chinese, japanese\n",
    "\n",
    "Religion - Christian, Protestan, \"Muslim, Jewish, Buddhist, Catholic, Sikh, Taoist\n",
    "\n",
    "Age - young, younger, teenage, millenial, middle aged, old, older, elderly\n",
    "\n",
    "Disability Status - blind, deaf, paralyzed\n",
    "\n"
   ]
  },
  {
   "cell_type": "code",
   "execution_count": 2,
   "id": "mysterious-standard",
   "metadata": {},
   "outputs": [],
   "source": [
    "#Step 3\n",
    "\n",
    "import numpy as np\n",
    "import pandas as pd\n",
    "import matplotlib.pyplot as plt\n",
    "\n",
    "df = pd.read_csv(\"toxity_per_attribute.csv\")\n",
    "#found rows with all False through python and deleted them in Excel\n",
    "#Code used \n",
    "# indices = []\n",
    "# for index, row in df.iterrows():\n",
    "#     if (df.iloc[index,2:] == 0).all() == True:\n",
    "#         indices.append(index)\n",
    "    "
   ]
  },
  {
   "cell_type": "code",
   "execution_count": 3,
   "id": "interesting-moldova",
   "metadata": {},
   "outputs": [],
   "source": [
    "#Replace all False with 0 and all True with 1\n",
    "df = df.replace(True, 1)\n",
    "df = df.replace(False, 0)\n",
    "\n",
    "#Create orderings for sex\n",
    "#1 for male, straight, heterosexual\n",
    "#2 for female\n",
    "#3 for other\n",
    "df['female'].replace({1:2}, inplace=True)\n",
    "cols = [\"lesbian\", \"gay\", \"bisexual\", \"transgender\", \"trans\", \"queer\", \"lgbt\", \"lgbtq\", \"homosexual\", \"nonbinary\"]\n",
    "df[cols] = df[cols].replace({1:3})\n",
    "\n",
    "sex = pd.DataFrame(df.iloc[:,2:16])\n",
    "df['pc_sex'] = 0\n",
    "maxv = df.iloc[:,2:16].max(axis=1)\n",
    "df['pc_sex']=maxv\n",
    "#df['pc_sex']"
   ]
  },
  {
   "cell_type": "code",
   "execution_count": 4,
   "id": "round-reader",
   "metadata": {},
   "outputs": [],
   "source": [
    "#Create orderings for race\n",
    "#1 for white, american, european, canadian\n",
    "#2 for black, hispanic, asian\n",
    "race = pd.DataFrame(df.iloc[:,16:33])\n",
    "cols = [\"african\", \"african american\", \"black\",\"hispanic\", \"latino\", \"latina\", \"latinx\", \"mexican\",\"asian\", \"indian\", \"middle eastern\", \"chinese\", \"japanese\" ]\n",
    "df[cols] = df[cols].replace({1:2})\n",
    "\n",
    "df['pc_race'] = 0\n",
    "maxv = df.iloc[:,16:33].max(axis=1)\n",
    "df['pc_race']=maxv\n",
    "#df['pc_race']"
   ]
  },
  {
   "cell_type": "code",
   "execution_count": 5,
   "id": "sweet-boutique",
   "metadata": {},
   "outputs": [],
   "source": [
    "#Create religion protected class\n",
    "#1 for christian, protestan\n",
    "#2 for other\n",
    "cols = [\"muslim\", \"jewish\", \"buddhist\", \"catholic\", \"sikh\", \"taoist\"]\n",
    "df[cols] = df[cols].replace({1:2})\n",
    "\n",
    "df['pc_religion'] = 0\n",
    "maxv = df.iloc[:,33:41].max(axis=1)\n",
    "df['pc_religion']=maxv\n",
    "#df['pc_religion']\n"
   ]
  },
  {
   "cell_type": "code",
   "execution_count": 6,
   "id": "warming-librarian",
   "metadata": {},
   "outputs": [],
   "source": [
    "#Create age protected class\n",
    "#1 for young, younger, teenage, millenial, middle aged\n",
    "#2 for old, older, elderly\n",
    "cols = [\"old\", \"older\", \"elderly\"]\n",
    "df[cols] = df[cols].replace({1:2})\n",
    "\n",
    "df['pc_age'] = 0\n",
    "maxv = df.iloc[:,41:49].max(axis=1)\n",
    "df['pc_age']=maxv\n",
    "#df['pc_age']\n",
    "\n"
   ]
  },
  {
   "cell_type": "code",
   "execution_count": 7,
   "id": "palestinian-beatles",
   "metadata": {},
   "outputs": [],
   "source": [
    "#Create disability protected class\n",
    "#1 for blind deaf paralyzed\n",
    "# disability = pd.DataFrame(df.iloc[:,49:])\n",
    "# disability.head()\n",
    "df['pc_disability'] = 0\n",
    "maxv = df.iloc[:,49:52].max(axis=1)\n",
    "df['pc_disability']=maxv\n",
    "#df['pc_disability']"
   ]
  },
  {
   "cell_type": "code",
   "execution_count": 8,
   "id": "physical-magnet",
   "metadata": {},
   "outputs": [],
   "source": [
    "df_small = pd.DataFrame(df.iloc[:,52:])\n",
    "df_small['TOXICITY'] = df['TOXICITY']\n",
    "#df_small.head()\n"
   ]
  },
  {
   "cell_type": "code",
   "execution_count": 9,
   "id": "collective-guitar",
   "metadata": {},
   "outputs": [
    {
     "data": {
      "text/plain": [
       "pc_sex           0.186217\n",
       "pc_race         -0.128406\n",
       "pc_religion      0.002672\n",
       "pc_age          -0.040504\n",
       "pc_disability    0.022562\n",
       "TOXICITY         1.000000\n",
       "Name: TOXICITY, dtype: float64"
      ]
     },
     "execution_count": 9,
     "metadata": {},
     "output_type": "execute_result"
    }
   ],
   "source": [
    "df_small[df_small.columns[0:]].corr()['TOXICITY'][:]\n",
    "      "
   ]
  },
  {
   "cell_type": "markdown",
   "id": "turned-survivor",
   "metadata": {},
   "source": [
    "Step 3\n",
    "\n",
    "Correlation Coefficients:\n",
    "\n",
    "|                      | Sex       | Race      | Relgion   | Age       | Disability Status |\n",
    "|----------------------|-----------|-----------|-----------|-----------|-------------------|\n",
    "| Toxicity             | 0.186217  | -0.128406  | 0.002672  | -.040504   | 0.022562          |\n",
    "| Correlation Strength | Very weak | Very weak | Very weak | Very weak | Very weak         |"
   ]
  },
  {
   "cell_type": "code",
   "execution_count": 10,
   "id": "utility-pricing",
   "metadata": {},
   "outputs": [
    {
     "data": {
      "image/png": "[encoded data removed]",
      "text/plain": [
       "<Figure size 432x288 with 1 Axes>"
      ]
     },
     "metadata": {
      "needs_background": "light"
     },
     "output_type": "display_data"
    }
   ],
   "source": [
    "males = df_small.loc[df_small['pc_sex'] == 1]\n",
    "mean_m = np.mean(males['TOXICITY'])\n",
    "females = df_small.loc[df_small['pc_sex'] == 2]\n",
    "mean_f = np.mean(females['TOXICITY'])\n",
    "others = df_small.loc[df_small['pc_sex'] == 3]\n",
    "mean_o = np.mean(others['TOXICITY'])\n",
    "\n",
    "means = [mean_m, mean_f, mean_o]\n",
    "x = [1,2,3]\n",
    "plt.plot(x,means)\n",
    "plt.title('Mean Toxicity')\n",
    "plt.xlabel('')\n",
    "plt.ylabel('')\n",
    "plt.xticks(x,[\"Male\", 'Female', 'Other'])\n",
    "plt.show()\n",
    "            \n",
    "            "
   ]
  },
  {
   "cell_type": "code",
   "execution_count": 11,
   "id": "progressive-wilson",
   "metadata": {},
   "outputs": [
    {
     "data": {
      "image/png": "[encoded data removed]",
      "text/plain": [
       "<Figure size 432x288 with 1 Axes>"
      ]
     },
     "metadata": {
      "needs_background": "light"
     },
     "output_type": "display_data"
    }
   ],
   "source": [
    "christian = df_small.loc[df_small['pc_religion'] == 1]\n",
    "mean_m = np.mean(christian['TOXICITY'])\n",
    "others = df_small.loc[df_small['pc_religion'] == 2]\n",
    "mean_o = np.mean(others['TOXICITY'])\n",
    "\n",
    "means = [mean_m, mean_o]\n",
    "x = [1,2]\n",
    "plt.plot(x,means)\n",
    "plt.title('Mean Toxicity')\n",
    "plt.xlabel('')\n",
    "plt.ylabel('')\n",
    "plt.xticks(x,[\"Christian\", 'Other'])\n",
    "plt.show()"
   ]
  },
  {
   "cell_type": "code",
   "execution_count": 12,
   "id": "flush-registrar",
   "metadata": {},
   "outputs": [
    {
     "data": {
      "image/png": "[encoded data removed]",
      "text/plain": [
       "<Figure size 432x288 with 1 Axes>"
      ]
     },
     "metadata": {
      "needs_background": "light"
     },
     "output_type": "display_data"
    }
   ],
   "source": [
    "disability = df_small.loc[df_small['pc_disability'] == 1]\n",
    "mean_m = np.mean(disability['TOXICITY'])\n",
    "others = df_small.loc[df_small['pc_disability'] == 0]\n",
    "mean_o = np.mean(others['TOXICITY'])\n",
    "\n",
    "means = [mean_o, mean_m]\n",
    "x = [0,1]\n",
    "plt.plot(x,means)\n",
    "plt.title('Mean Toxicity')\n",
    "plt.xlabel('')\n",
    "plt.ylabel('')\n",
    "plt.xticks(x,[\"Non-Disability\", 'Disability'])\n",
    "plt.show()"
   ]
  },
  {
   "cell_type": "code",
   "execution_count": 13,
   "id": "macro-milton",
   "metadata": {},
   "outputs": [
    {
     "data": {
      "text/plain": [
       "0.550101802360502"
      ]
     },
     "execution_count": 13,
     "metadata": {},
     "output_type": "execute_result"
    }
   ],
   "source": [
    "toxicity_mean = np.mean(df_small['TOXICITY'])\n",
    "toxicity_mean"
   ]
  },
  {
   "cell_type": "code",
   "execution_count": 14,
   "id": "italian-switzerland",
   "metadata": {},
   "outputs": [
    {
     "data": {
      "text/plain": [
       "0.3618500748261417"
      ]
     },
     "execution_count": 14,
     "metadata": {},
     "output_type": "execute_result"
    }
   ],
   "source": [
    "toxicity_std = np.std(df_small['TOXICITY'])\n",
    "toxicity_std"
   ]
  },
  {
   "cell_type": "code",
   "execution_count": 15,
   "id": "painful-driving",
   "metadata": {},
   "outputs": [
    {
     "data": {
      "text/plain": [
       "-0.17359834729178136"
      ]
     },
     "execution_count": 15,
     "metadata": {},
     "output_type": "execute_result"
    }
   ],
   "source": [
    "#95% of toxicity lies within\n",
    "minus_mean = toxicity_mean - (2*toxicity_std)\n",
    "minus_mean\n"
   ]
  },
  {
   "cell_type": "code",
   "execution_count": 16,
   "id": "removable-terrorism",
   "metadata": {},
   "outputs": [
    {
     "data": {
      "text/plain": [
       "1.2738019520127852"
      ]
     },
     "execution_count": 16,
     "metadata": {},
     "output_type": "execute_result"
    }
   ],
   "source": [
    "plus_mean = toxicity_mean + (2*toxicity_std)\n",
    "plus_mean"
   ]
  },
  {
   "cell_type": "code",
   "execution_count": 17,
   "id": "charming-homework",
   "metadata": {},
   "outputs": [
    {
     "data": {
      "text/plain": [
       "0.5577070249483488"
      ]
     },
     "execution_count": 17,
     "metadata": {},
     "output_type": "execute_result"
    }
   ],
   "source": [
    "#Random sampling with 10% of data\n",
    "sample_10 = df.sample(frac=0.1, replace=True, random_state=1)\n",
    "sample_50 = df.sample(frac=0.6, replace=True, random_state=1)\n",
    "toxicity_mean = np.mean(sample_10['TOXICITY'])\n",
    "toxicity_mean"
   ]
  },
  {
   "cell_type": "code",
   "execution_count": 18,
   "id": "searching-duncan",
   "metadata": {},
   "outputs": [
    {
     "data": {
      "text/plain": [
       "0.3607463113653914"
      ]
     },
     "execution_count": 18,
     "metadata": {},
     "output_type": "execute_result"
    }
   ],
   "source": [
    "\n",
    "toxicity_std = np.std(sample_10['TOXICITY'])\n",
    "toxicity_std"
   ]
  },
  {
   "cell_type": "code",
   "execution_count": 19,
   "id": "expired-canyon",
   "metadata": {},
   "outputs": [
    {
     "data": {
      "text/plain": [
       "0.011493493650809091"
      ]
     },
     "execution_count": 19,
     "metadata": {},
     "output_type": "execute_result"
    }
   ],
   "source": [
    "1/np.sqrt(7570)"
   ]
  },
  {
   "cell_type": "code",
   "execution_count": 20,
   "id": "subsequent-plane",
   "metadata": {},
   "outputs": [
    {
     "data": {
      "text/plain": [
       "0.5497945882339278"
      ]
     },
     "execution_count": 20,
     "metadata": {},
     "output_type": "execute_result"
    }
   ],
   "source": [
    "#Now run on 50% sample\n",
    "toxicity_mean = np.mean(sample_50['TOXICITY'])\n",
    "toxicity_mean"
   ]
  },
  {
   "cell_type": "code",
   "execution_count": 21,
   "id": "chinese-desktop",
   "metadata": {},
   "outputs": [
    {
     "data": {
      "text/plain": [
       "0.3614183558843998"
      ]
     },
     "execution_count": 21,
     "metadata": {},
     "output_type": "execute_result"
    }
   ],
   "source": [
    "toxicity_std = np.std(sample_50['TOXICITY'])\n",
    "toxicity_std"
   ]
  },
  {
   "cell_type": "code",
   "execution_count": 22,
   "id": "dental-mexican",
   "metadata": {},
   "outputs": [
    {
     "data": {
      "text/plain": [
       "0.005140046620434272"
      ]
     },
     "execution_count": 22,
     "metadata": {},
     "output_type": "execute_result"
    }
   ],
   "source": [
    "1/np.sqrt(37850)\n"
   ]
  },
  {
   "cell_type": "markdown",
   "id": "sized-identifier",
   "metadata": {},
   "source": [
    "Step 4\n",
    "\n",
    "The population mean of the reduced data set of TOXICITY is 0.550101802360502\n",
    "\n",
    "The standard deviation of TOXICITY is 0.3618500748261417\n",
    "\n",
    "The range of values around the mean that includes 95% of TOXICITY is between -0.17245489899620792 and 1.2732427034443452\n",
    "\n",
    "Since TOXICITY only ranges between 0 and 1 the values would be between 0 and 1.\n",
    "\n",
    "\n",
    "The population mean of 10% of the data set of TOXICITY is 0.5577070249483488\n",
    "\n",
    "The standard deviation of TOXICITY is 0.3607463113653914\n",
    "\n",
    "The margin of error is 1 / square root of the sample size which is 1.1% \n",
    "\n",
    "\n",
    "The population mean of 60% of the data set of TOXICITY is 0.5497945882339278\n",
    "\n",
    "The standard deviation of TOXICITY is 0.3614183558843998\n",
    "\n",
    "The margin of error is 1 / square root of the sample size which is .5% "
   ]
  },
  {
   "cell_type": "code",
   "execution_count": 23,
   "id": "consistent-router",
   "metadata": {},
   "outputs": [
    {
     "data": {
      "text/plain": [
       "0.6503520611892338"
      ]
     },
     "execution_count": 23,
     "metadata": {},
     "output_type": "execute_result"
    }
   ],
   "source": [
    "df_sex_tox_only = df[df['pc_sex'] != 0]\n",
    "toxicity_mean = np.mean(df_sex_tox_only['TOXICITY'])\n",
    "toxicity_mean\n"
   ]
  },
  {
   "cell_type": "code",
   "execution_count": 24,
   "id": "delayed-leave",
   "metadata": {},
   "outputs": [
    {
     "data": {
      "text/plain": [
       "0.32396048890109536"
      ]
     },
     "execution_count": 24,
     "metadata": {},
     "output_type": "execute_result"
    }
   ],
   "source": [
    "toxicity_std = np.std(df_sex_tox_only['TOXICITY'])\n",
    "toxicity_std\n"
   ]
  },
  {
   "cell_type": "code",
   "execution_count": 25,
   "id": "prescription-infection",
   "metadata": {},
   "outputs": [
    {
     "data": {
      "text/plain": [
       "46.04345773288535"
      ]
     },
     "execution_count": 25,
     "metadata": {},
     "output_type": "execute_result"
    }
   ],
   "source": [
    "sample_10 = df_sex_tox_only.sample(frac=0.1, replace=True, random_state=1)\n",
    "sample_50 = df_sex_tox_only.sample(frac=0.6, replace=True, random_state=1)\n",
    "toxicity_mean = np.mean(sample_10['TOXICITY'])\n",
    "toxicity_mean\n",
    "np.sqrt(2120)\n"
   ]
  },
  {
   "cell_type": "code",
   "execution_count": 26,
   "id": "direct-cartoon",
   "metadata": {},
   "outputs": [
    {
     "data": {
      "text/plain": [
       "0.32816834890291524"
      ]
     },
     "execution_count": 26,
     "metadata": {},
     "output_type": "execute_result"
    }
   ],
   "source": [
    "toxicity_std = np.std(sample_10['TOXICITY'])\n",
    "toxicity_std"
   ]
  },
  {
   "cell_type": "code",
   "execution_count": 27,
   "id": "functional-investment",
   "metadata": {},
   "outputs": [
    {
     "data": {
      "text/plain": [
       "0.6504618345875923"
      ]
     },
     "execution_count": 27,
     "metadata": {},
     "output_type": "execute_result"
    }
   ],
   "source": [
    "toxicity_mean = np.mean(sample_50['TOXICITY'])\n",
    "toxicity_mean"
   ]
  },
  {
   "cell_type": "code",
   "execution_count": 28,
   "id": "guilty-mexican",
   "metadata": {},
   "outputs": [
    {
     "data": {
      "text/plain": [
       "0.3234878348744136"
      ]
     },
     "execution_count": 28,
     "metadata": {},
     "output_type": "execute_result"
    }
   ],
   "source": [
    "toxicity_std = np.std(sample_50['TOXICITY'])\n",
    "toxicity_std"
   ]
  },
  {
   "cell_type": "code",
   "execution_count": 29,
   "id": "working-electronics",
   "metadata": {},
   "outputs": [
    {
     "data": {
      "text/plain": [
       "0.6445852051414944"
      ]
     },
     "execution_count": 29,
     "metadata": {},
     "output_type": "execute_result"
    }
   ],
   "source": [
    "(1/np.sqrt(12718)) * 0.6503520611892338 + 0.6503520611892338\n",
    "0.6503520611892338 - ((1/np.sqrt(12718)) * 0.6503520611892338)\n",
    "#(1/np.sqrt(10589))"
   ]
  },
  {
   "cell_type": "code",
   "execution_count": 30,
   "id": "martial-following",
   "metadata": {},
   "outputs": [
    {
     "data": {
      "text/plain": [
       "0.6362273170190162"
      ]
     },
     "execution_count": 30,
     "metadata": {},
     "output_type": "execute_result"
    }
   ],
   "source": [
    "(1/np.sqrt(2120)) * 0.6503520611892338 + 0.6503520611892338\n",
    "0.6503520611892338 - ((1/np.sqrt(2120)) * 0.6503520611892338)\n",
    "#(1/np.sqrt(2120))"
   ]
  },
  {
   "cell_type": "markdown",
   "id": "executive-sandwich",
   "metadata": {},
   "source": [
    "Step 5\n",
    "\n",
    "The population mean of the data set with samples where sex is associated with TOXICITY is 0.6503520611892338\n",
    "\n",
    "The standard deviation of TOXICITY is 0.6503520611892338\n",
    "\n",
    "\n",
    "The mean of 10% of the data set of TOXICITY is 0.6419847458268868\n",
    "\n",
    "The standard deviation of TOXICITY is 0.32816834890291524\n",
    "\n",
    "The margin of error is 1 / square root of the sample size which is 2% \n",
    "\n",
    "The does fall within the margin of error\n",
    " \n",
    "    \n",
    "\n",
    "The mean of 50% of the data set of TOXICITY is 0.6504618345875923\n",
    "\n",
    "The standard deviation of TOXICITY is 0.3234878348744136\n",
    "\n",
    "The margin of error is 1 / square root of the sample size which is .9% \n",
    "\n",
    "The does fall within the margin of error\n"
   ]
  },
  {
   "cell_type": "code",
   "execution_count": 31,
   "id": "needed-philosophy",
   "metadata": {},
   "outputs": [
    {
     "data": {
      "text/plain": [
       "0.5668030269667548"
      ]
     },
     "execution_count": 31,
     "metadata": {},
     "output_type": "execute_result"
    }
   ],
   "source": [
    "df_male = df_sex_tox_only[df_sex_tox_only['pc_sex']==1]\n",
    "mmean = np.mean(df_male['TOXICITY'])\n",
    "mmean\n",
    "\n"
   ]
  },
  {
   "cell_type": "code",
   "execution_count": 32,
   "id": "historic-shopping",
   "metadata": {},
   "outputs": [
    {
     "data": {
      "text/plain": [
       "0.34562470725548283"
      ]
     },
     "execution_count": 32,
     "metadata": {},
     "output_type": "execute_result"
    }
   ],
   "source": [
    "mstd = np.std(df_male['TOXICITY'])\n",
    "mstd"
   ]
  },
  {
   "cell_type": "code",
   "execution_count": 33,
   "id": "composed-wallpaper",
   "metadata": {},
   "outputs": [
    {
     "data": {
      "text/plain": [
       "0.6034246170937912"
      ]
     },
     "execution_count": 33,
     "metadata": {},
     "output_type": "execute_result"
    }
   ],
   "source": [
    "df_female = df_sex_tox_only[df_sex_tox_only['pc_sex']==2]\n",
    "mmean = np.mean(df_female['TOXICITY'])\n",
    "mmean"
   ]
  },
  {
   "cell_type": "code",
   "execution_count": 34,
   "id": "amazing-fantasy",
   "metadata": {},
   "outputs": [
    {
     "data": {
      "text/plain": [
       "0.33689552706552583"
      ]
     },
     "execution_count": 34,
     "metadata": {},
     "output_type": "execute_result"
    }
   ],
   "source": [
    "mstd = np.std(df_female['TOXICITY'])\n",
    "mstd"
   ]
  },
  {
   "cell_type": "code",
   "execution_count": 35,
   "id": "impressed-strip",
   "metadata": {},
   "outputs": [
    {
     "data": {
      "text/plain": [
       "0.6801095158655218"
      ]
     },
     "execution_count": 35,
     "metadata": {},
     "output_type": "execute_result"
    }
   ],
   "source": [
    "df_other = df_sex_tox_only[df_sex_tox_only['pc_sex']==3]\n",
    "mmean = np.mean(df_other['TOXICITY'])\n",
    "mmean"
   ]
  },
  {
   "cell_type": "code",
   "execution_count": 36,
   "id": "indoor-description",
   "metadata": {},
   "outputs": [
    {
     "data": {
      "text/plain": [
       "0.31071515842608477"
      ]
     },
     "execution_count": 36,
     "metadata": {},
     "output_type": "execute_result"
    }
   ],
   "source": [
    "mstd = np.std(df_other['TOXICITY'])\n",
    "mstd"
   ]
  },
  {
   "cell_type": "code",
   "execution_count": 37,
   "id": "floppy-therapy",
   "metadata": {},
   "outputs": [
    {
     "data": {
      "text/plain": [
       "0.5723840321936904"
      ]
     },
     "execution_count": 37,
     "metadata": {},
     "output_type": "execute_result"
    }
   ],
   "source": [
    "sample_10 = df_sex_tox_only.sample(frac=0.1, replace=True, random_state=1)\n",
    "sample_50 = df_sex_tox_only.sample(frac=0.6, replace=True, random_state=1)\n",
    "df_male = sample_50[sample_50['pc_sex']==1]\n",
    "df_female = sample_50[sample_50['pc_sex']==2]\n",
    "df_other = sample_50[sample_50['pc_sex']==3]\n",
    "mmean = np.mean(df_male['TOXICITY'])\n",
    "mmean"
   ]
  },
  {
   "cell_type": "code",
   "execution_count": 38,
   "id": "fourth-painting",
   "metadata": {},
   "outputs": [
    {
     "data": {
      "text/plain": [
       "0.3457125982517582"
      ]
     },
     "execution_count": 38,
     "metadata": {},
     "output_type": "execute_result"
    }
   ],
   "source": [
    "mstd = np.std(df_male['TOXICITY'])\n",
    "mstd"
   ]
  },
  {
   "cell_type": "code",
   "execution_count": 39,
   "id": "ethical-basket",
   "metadata": {},
   "outputs": [
    {
     "data": {
      "text/plain": [
       "0.6205122657784946"
      ]
     },
     "execution_count": 39,
     "metadata": {},
     "output_type": "execute_result"
    }
   ],
   "source": [
    "mmean = np.mean(df_female['TOXICITY'])\n",
    "mmean"
   ]
  },
  {
   "cell_type": "code",
   "execution_count": 40,
   "id": "aquatic-coral",
   "metadata": {},
   "outputs": [
    {
     "data": {
      "text/plain": [
       "0.3325678588444819"
      ]
     },
     "execution_count": 40,
     "metadata": {},
     "output_type": "execute_result"
    }
   ],
   "source": [
    "mstd = np.std(df_female['TOXICITY'])\n",
    "mstd"
   ]
  },
  {
   "cell_type": "code",
   "execution_count": 41,
   "id": "divided-sector",
   "metadata": {},
   "outputs": [
    {
     "data": {
      "text/plain": [
       "0.6770225483724343"
      ]
     },
     "execution_count": 41,
     "metadata": {},
     "output_type": "execute_result"
    }
   ],
   "source": [
    "mmean = np.mean(df_other['TOXICITY'])\n",
    "mmean"
   ]
  },
  {
   "cell_type": "code",
   "execution_count": 42,
   "id": "union-compound",
   "metadata": {},
   "outputs": [
    {
     "data": {
      "text/plain": [
       "0.3113321321150485"
      ]
     },
     "execution_count": 42,
     "metadata": {},
     "output_type": "execute_result"
    }
   ],
   "source": [
    "mstd = np.std(df_other['TOXICITY'])\n",
    "mstd"
   ]
  },
  {
   "cell_type": "code",
   "execution_count": 43,
   "id": "treated-gallery",
   "metadata": {},
   "outputs": [
    {
     "data": {
      "text/plain": [
       "0.5776590119810442"
      ]
     },
     "execution_count": 43,
     "metadata": {},
     "output_type": "execute_result"
    }
   ],
   "source": [
    "#male 60%\n",
    "(1/np.sqrt(2726)) * 0.5668030269667548 + 0.5668030269667548\n",
    "#0.5668030269667548 - ((1/np.sqrt(2726)) * 0.5668030269667548)\n",
    "#(1/np.sqrt(2726))"
   ]
  },
  {
   "cell_type": "code",
   "execution_count": 44,
   "id": "widespread-handy",
   "metadata": {},
   "outputs": [
    {
     "data": {
      "text/plain": [
       "0.6189327704126901"
      ]
     },
     "execution_count": 44,
     "metadata": {},
     "output_type": "execute_result"
    }
   ],
   "source": [
    "#female 60%\n",
    "(1/np.sqrt(1514)) * 0.6034246170937912 + 0.6034246170937912\n",
    "#0.5668030269667548 - ((1/np.sqrt(1514)) * 0.5668030269667548)\n",
    "#(1/np.sqrt(2726))"
   ]
  },
  {
   "cell_type": "code",
   "execution_count": 45,
   "id": "collaborative-ancient",
   "metadata": {},
   "outputs": [
    {
     "data": {
      "text/plain": [
       "0.5548454222979214"
      ]
     },
     "execution_count": 45,
     "metadata": {},
     "output_type": "execute_result"
    }
   ],
   "source": [
    "df_male = sample_10[sample_10['pc_sex']==1]\n",
    "df_female = sample_10[sample_10['pc_sex']==2]\n",
    "df_other = sample_10[sample_10['pc_sex']==3]\n",
    "mmean = np.mean(df_male['TOXICITY'])\n",
    "mmean"
   ]
  },
  {
   "cell_type": "code",
   "execution_count": 46,
   "id": "musical-atlanta",
   "metadata": {},
   "outputs": [
    {
     "data": {
      "text/plain": [
       "0.34446592310332474"
      ]
     },
     "execution_count": 46,
     "metadata": {},
     "output_type": "execute_result"
    }
   ],
   "source": [
    "mstd = np.std(df_male['TOXICITY'])\n",
    "mstd"
   ]
  },
  {
   "cell_type": "code",
   "execution_count": 47,
   "id": "delayed-understanding",
   "metadata": {},
   "outputs": [
    {
     "data": {
      "text/plain": [
       "0.6055766939207318"
      ]
     },
     "execution_count": 47,
     "metadata": {},
     "output_type": "execute_result"
    }
   ],
   "source": [
    "mmean = np.mean(df_female['TOXICITY'])\n",
    "mmean"
   ]
  },
  {
   "cell_type": "code",
   "execution_count": 48,
   "id": "conservative-blade",
   "metadata": {},
   "outputs": [
    {
     "data": {
      "text/plain": [
       "0.33583001659083667"
      ]
     },
     "execution_count": 48,
     "metadata": {},
     "output_type": "execute_result"
    }
   ],
   "source": [
    "mstd = np.std(df_female['TOXICITY'])\n",
    "mstd"
   ]
  },
  {
   "cell_type": "code",
   "execution_count": 49,
   "id": "liquid-basics",
   "metadata": {},
   "outputs": [
    {
     "data": {
      "text/plain": [
       "0.670679589950755"
      ]
     },
     "execution_count": 49,
     "metadata": {},
     "output_type": "execute_result"
    }
   ],
   "source": [
    "mmean = np.mean(df_other['TOXICITY'])\n",
    "mmean"
   ]
  },
  {
   "cell_type": "code",
   "execution_count": 50,
   "id": "conscious-champagne",
   "metadata": {},
   "outputs": [
    {
     "data": {
      "text/plain": [
       "0.3176555281321664"
      ]
     },
     "execution_count": 50,
     "metadata": {},
     "output_type": "execute_result"
    }
   ],
   "source": [
    "mstd = np.std(df_other['TOXICITY'])\n",
    "mstd"
   ]
  },
  {
   "cell_type": "markdown",
   "id": "prerequisite-poland",
   "metadata": {},
   "source": [
    "Step 6\n",
    "\n",
    "\n",
    "The mean of TOXICITY when its associated with males is 0.5668030269667548\n",
    "\n",
    "The standard deviation of TOXICITY when its associated with males is 0.34562470725548283\n",
    "\n",
    "The mean of TOXICITY when its associated with females is 0.6034246170937912\n",
    "\n",
    "The standard deviation of TOXICITY when its associated with females is 0.33689552706552583\n",
    "\n",
    "The mean of TOXICITY when its associated with all other sub-groups protected by sex is 0.6801095158655218\n",
    "\n",
    "The standard deviation of TOXICITY when its associated with all other sub-groups protected by sex is 0.31071515842608477\n",
    "\n",
    "\n",
    "Using 60% of the data\n",
    "\n",
    "The mean of TOXICITY when its associated with males is 0.5723840321936904\n",
    "\n",
    "The standard deviation of TOXICITY when its associated with males is 0.3457125982517582\n",
    "\n",
    "The does fall within the margin of error\n",
    "\n",
    "The mean of TOXICITY when its associated with females is 0.6034246170937912\n",
    "\n",
    "The standard deviation of TOXICITY when its associated with females is 0.33689552706552583\n",
    "\n",
    "The does fall within the margin of error\n",
    "\n",
    "The mean of TOXICITY when its associated with all other sub-groups protected by sex is 0.670679589950755\n",
    "\n",
    "The standard deviation of TOXICITY when its associated with all other sub-groups protected by sex is 0.31071515842608477\n",
    "\n",
    "The does fall within the margin of error\n",
    "\n",
    "\n",
    "Using 10% of the data\n",
    "\n",
    "The mean of TOXICITY when its associated with males is 0.5548454222979214\n",
    "\n",
    "The standard deviation of TOXICITY when its associated with males is 0.34446592310332474\n",
    "\n",
    "The does fall within the margin of error\n",
    "\n",
    "The mean of TOXICITY when its associated with females is 0.6055766939207318\n",
    "\n",
    "The standard deviation of TOXICITY when its associated with females is 0.33583001659083667\n",
    "\n",
    "The does fall within the margin of error\n",
    "\n",
    "The mean of TOXICITY when its associated with all other sub-groups protected by sex is 0.6801095158655218\n",
    "\n",
    "The standard deviation of TOXICITY when its associated with all other sub-groups protected by sex is 0.3176555281321664\n",
    "\n",
    "The does fall within the margin of error\n"
   ]
  },
  {
   "cell_type": "code",
   "execution_count": 51,
   "id": "minor-prison",
   "metadata": {},
   "outputs": [
    {
     "data": {
      "image/png": "[encoded data removed]",
      "text/plain": [
       "<Figure size 432x288 with 1 Axes>"
      ]
     },
     "metadata": {
      "needs_background": "light"
     },
     "output_type": "display_data"
    }
   ],
   "source": [
    "means = [0.550101802360502, 0.6503520611892338, 0.5668030269667548, 0.6034246170937912, 0.670679589950755]\n",
    "x = [1,2,3,4,5]\n",
    "plt.plot(x,means)\n",
    "plt.title('Mean Toxicity')\n",
    "plt.xlabel('')\n",
    "plt.ylabel('')\n",
    "plt.xticks(x,['Population', 'Class Sex', \"Male\", 'Female', 'Other'])\n",
    "plt.show()"
   ]
  },
  {
   "cell_type": "markdown",
   "id": "instant-calvin",
   "metadata": {},
   "source": []
  }
 ],
 "metadata": {
  "kernelspec": {
   "display_name": "Python 3",
   "language": "python",
   "name": "python3"
  },
  "language_info": {
   "codemirror_mode": {
    "name": "ipython",
    "version": 3
   },
   "file_extension": ".py",
   "mimetype": "text/x-python",
   "name": "python",
   "nbconvert_exporter": "python",
   "pygments_lexer": "ipython3",
   "version": "3.8.5"
  }
 },
 "nbformat": 4,
 "nbformat_minor": 5
}
