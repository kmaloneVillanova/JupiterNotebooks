{
 "cells": [
  {
   "cell_type": "markdown",
   "metadata": {},
   "source": [
    "## First import packages"
   ]
  },
  {
   "cell_type": "code",
   "execution_count": 1,
   "metadata": {},
   "outputs": [
    {
     "data": {
      "text/plain": [
       "(array([[  1.53230788,  -1.88971185],\n",
       "        [ -0.72864791,  -7.18926735],\n",
       "        [  0.11514166,  -1.44998632],\n",
       "        [  0.97411906,  -0.11855093],\n",
       "        [  0.24537861,  -1.2845269 ],\n",
       "        [ -3.07353754, -10.32322273],\n",
       "        [ -0.77722054, -10.72676345],\n",
       "        [  1.24982001,  -2.2823312 ],\n",
       "        [ -1.23856256, -10.59940081],\n",
       "        [ -2.33805418, -10.39048298]]),\n",
       " array([1, 0, 1, 1, 1, 0, 0, 1, 0, 0]))"
      ]
     },
     "execution_count": 1,
     "metadata": {},
     "output_type": "execute_result"
    }
   ],
   "source": [
    "from sklearn.datasets import make_blobs\n",
    "from matplotlib import pyplot as plt\n",
    "import pandas as pd\n",
    "import numpy as np\n",
    "\n",
    "#point out * when cell is running. need to wait\n",
    "#show how once the dataset is loaded we can run experiments without loading again\n",
    "#if you change datatype of variable restart kernel\n",
    "\n",
    "#use sklearn make_moons to create a toy dataset\n",
    "#popular for testing classifiers\n",
    "#creates 2 np arrays - 1 with 2 features and a third with an outcome value 0 or 1\n",
    "#centers=2 will give 2 outcomes - 0 or 1\n",
    "data = make_blobs(10, random_state=2, centers=2)\n",
    "data"
   ]
  },
  {
   "cell_type": "markdown",
   "metadata": {},
   "source": [
    "## Next get the data"
   ]
  },
  {
   "cell_type": "code",
   "execution_count": 2,
   "metadata": {},
   "outputs": [
    {
     "data": {
      "text/html": [
       "<div>\n",
       "<style scoped>\n",
       "    .dataframe tbody tr th:only-of-type {\n",
       "        vertical-align: middle;\n",
       "    }\n",
       "\n",
       "    .dataframe tbody tr th {\n",
       "        vertical-align: top;\n",
       "    }\n",
       "\n",
       "    .dataframe thead th {\n",
       "        text-align: right;\n",
       "    }\n",
       "</style>\n",
       "<table border=\"1\" class=\"dataframe\">\n",
       "  <thead>\n",
       "    <tr style=\"text-align: right;\">\n",
       "      <th></th>\n",
       "      <th>0</th>\n",
       "      <th>1</th>\n",
       "      <th>target</th>\n",
       "    </tr>\n",
       "  </thead>\n",
       "  <tbody>\n",
       "    <tr>\n",
       "      <th>0</th>\n",
       "      <td>1.532308</td>\n",
       "      <td>-1.889712</td>\n",
       "      <td>1</td>\n",
       "    </tr>\n",
       "    <tr>\n",
       "      <th>1</th>\n",
       "      <td>-0.728648</td>\n",
       "      <td>-7.189267</td>\n",
       "      <td>0</td>\n",
       "    </tr>\n",
       "    <tr>\n",
       "      <th>2</th>\n",
       "      <td>0.115142</td>\n",
       "      <td>-1.449986</td>\n",
       "      <td>1</td>\n",
       "    </tr>\n",
       "    <tr>\n",
       "      <th>3</th>\n",
       "      <td>0.974119</td>\n",
       "      <td>-0.118551</td>\n",
       "      <td>1</td>\n",
       "    </tr>\n",
       "    <tr>\n",
       "      <th>4</th>\n",
       "      <td>0.245379</td>\n",
       "      <td>-1.284527</td>\n",
       "      <td>1</td>\n",
       "    </tr>\n",
       "    <tr>\n",
       "      <th>5</th>\n",
       "      <td>-3.073538</td>\n",
       "      <td>-10.323223</td>\n",
       "      <td>0</td>\n",
       "    </tr>\n",
       "    <tr>\n",
       "      <th>6</th>\n",
       "      <td>-0.777221</td>\n",
       "      <td>-10.726763</td>\n",
       "      <td>0</td>\n",
       "    </tr>\n",
       "    <tr>\n",
       "      <th>7</th>\n",
       "      <td>1.249820</td>\n",
       "      <td>-2.282331</td>\n",
       "      <td>1</td>\n",
       "    </tr>\n",
       "    <tr>\n",
       "      <th>8</th>\n",
       "      <td>-1.238563</td>\n",
       "      <td>-10.599401</td>\n",
       "      <td>0</td>\n",
       "    </tr>\n",
       "    <tr>\n",
       "      <th>9</th>\n",
       "      <td>-2.338054</td>\n",
       "      <td>-10.390483</td>\n",
       "      <td>0</td>\n",
       "    </tr>\n",
       "  </tbody>\n",
       "</table>\n",
       "</div>"
      ],
      "text/plain": [
       "          0          1  target\n",
       "0  1.532308  -1.889712       1\n",
       "1 -0.728648  -7.189267       0\n",
       "2  0.115142  -1.449986       1\n",
       "3  0.974119  -0.118551       1\n",
       "4  0.245379  -1.284527       1\n",
       "5 -3.073538 -10.323223       0\n",
       "6 -0.777221 -10.726763       0\n",
       "7  1.249820  -2.282331       1\n",
       "8 -1.238563 -10.599401       0\n",
       "9 -2.338054 -10.390483       0"
      ]
     },
     "execution_count": 2,
     "metadata": {},
     "output_type": "execute_result"
    }
   ],
   "source": [
    "#convert make_moons to pandas dataframe\n",
    "features = data[0]\n",
    "target = data[1]\n",
    "df = pd.DataFrame(features)\n",
    "df['target'] = target\n",
    "df\n"
   ]
  },
  {
   "cell_type": "markdown",
   "metadata": {},
   "source": [
    "Convert column names to *feature1, feature2, and target*\n",
    "\n",
    "Convert column names to **feature1, feature2, and target**"
   ]
  },
  {
   "cell_type": "code",
   "execution_count": 3,
   "metadata": {},
   "outputs": [
    {
     "name": "stdout",
     "output_type": "stream",
     "text": [
      "<class 'pandas.core.frame.DataFrame'>\n",
      "RangeIndex: 10 entries, 0 to 9\n",
      "Data columns (total 3 columns):\n",
      " #   Column    Non-Null Count  Dtype  \n",
      "---  ------    --------------  -----  \n",
      " 0   feature1  10 non-null     float64\n",
      " 1   feature2  10 non-null     float64\n",
      " 2   target    10 non-null     int32  \n",
      "dtypes: float64(2), int32(1)\n",
      "memory usage: 328.0 bytes\n"
     ]
    }
   ],
   "source": [
    "#check data type of features and target\n",
    "#convert column names to feature1, feature2, target\n",
    "df.columns = ['feature1', 'feature2', 'target']\n",
    "df.info()"
   ]
  },
  {
   "cell_type": "code",
   "execution_count": 4,
   "metadata": {},
   "outputs": [
    {
     "data": {
      "text/html": [
       "<div>\n",
       "<style scoped>\n",
       "    .dataframe tbody tr th:only-of-type {\n",
       "        vertical-align: middle;\n",
       "    }\n",
       "\n",
       "    .dataframe tbody tr th {\n",
       "        vertical-align: top;\n",
       "    }\n",
       "\n",
       "    .dataframe thead th {\n",
       "        text-align: right;\n",
       "    }\n",
       "</style>\n",
       "<table border=\"1\" class=\"dataframe\">\n",
       "  <thead>\n",
       "    <tr style=\"text-align: right;\">\n",
       "      <th></th>\n",
       "      <th>feature1</th>\n",
       "      <th>feature2</th>\n",
       "      <th>target</th>\n",
       "    </tr>\n",
       "  </thead>\n",
       "  <tbody>\n",
       "    <tr>\n",
       "      <th>0</th>\n",
       "      <td>1.532308</td>\n",
       "      <td>-1.889712</td>\n",
       "      <td>1</td>\n",
       "    </tr>\n",
       "    <tr>\n",
       "      <th>1</th>\n",
       "      <td>-0.728648</td>\n",
       "      <td>-7.189267</td>\n",
       "      <td>0</td>\n",
       "    </tr>\n",
       "    <tr>\n",
       "      <th>2</th>\n",
       "      <td>0.115142</td>\n",
       "      <td>-1.449986</td>\n",
       "      <td>1</td>\n",
       "    </tr>\n",
       "    <tr>\n",
       "      <th>3</th>\n",
       "      <td>0.974119</td>\n",
       "      <td>-0.118551</td>\n",
       "      <td>1</td>\n",
       "    </tr>\n",
       "    <tr>\n",
       "      <th>4</th>\n",
       "      <td>0.245379</td>\n",
       "      <td>-1.284527</td>\n",
       "      <td>1</td>\n",
       "    </tr>\n",
       "    <tr>\n",
       "      <th>5</th>\n",
       "      <td>-3.073538</td>\n",
       "      <td>-10.323223</td>\n",
       "      <td>0</td>\n",
       "    </tr>\n",
       "    <tr>\n",
       "      <th>6</th>\n",
       "      <td>-0.777221</td>\n",
       "      <td>-10.726763</td>\n",
       "      <td>0</td>\n",
       "    </tr>\n",
       "    <tr>\n",
       "      <th>7</th>\n",
       "      <td>1.249820</td>\n",
       "      <td>-2.282331</td>\n",
       "      <td>1</td>\n",
       "    </tr>\n",
       "    <tr>\n",
       "      <th>8</th>\n",
       "      <td>-1.238563</td>\n",
       "      <td>-10.599401</td>\n",
       "      <td>0</td>\n",
       "    </tr>\n",
       "    <tr>\n",
       "      <th>9</th>\n",
       "      <td>-2.338054</td>\n",
       "      <td>-10.390483</td>\n",
       "      <td>0</td>\n",
       "    </tr>\n",
       "  </tbody>\n",
       "</table>\n",
       "</div>"
      ],
      "text/plain": [
       "   feature1   feature2  target\n",
       "0  1.532308  -1.889712       1\n",
       "1 -0.728648  -7.189267       0\n",
       "2  0.115142  -1.449986       1\n",
       "3  0.974119  -0.118551       1\n",
       "4  0.245379  -1.284527       1\n",
       "5 -3.073538 -10.323223       0\n",
       "6 -0.777221 -10.726763       0\n",
       "7  1.249820  -2.282331       1\n",
       "8 -1.238563 -10.599401       0\n",
       "9 -2.338054 -10.390483       0"
      ]
     },
     "execution_count": 4,
     "metadata": {},
     "output_type": "execute_result"
    }
   ],
   "source": [
    "df"
   ]
  },
  {
   "cell_type": "code",
   "execution_count": 5,
   "metadata": {},
   "outputs": [
    {
     "data": {
      "text/html": [
       "<div>\n",
       "<style scoped>\n",
       "    .dataframe tbody tr th:only-of-type {\n",
       "        vertical-align: middle;\n",
       "    }\n",
       "\n",
       "    .dataframe tbody tr th {\n",
       "        vertical-align: top;\n",
       "    }\n",
       "\n",
       "    .dataframe thead th {\n",
       "        text-align: right;\n",
       "    }\n",
       "</style>\n",
       "<table border=\"1\" class=\"dataframe\">\n",
       "  <thead>\n",
       "    <tr style=\"text-align: right;\">\n",
       "      <th></th>\n",
       "      <th>feature1</th>\n",
       "      <th>feature2</th>\n",
       "      <th>target</th>\n",
       "    </tr>\n",
       "  </thead>\n",
       "  <tbody>\n",
       "    <tr>\n",
       "      <th>count</th>\n",
       "      <td>10.000000</td>\n",
       "      <td>10.000000</td>\n",
       "      <td>10.000000</td>\n",
       "    </tr>\n",
       "    <tr>\n",
       "      <th>mean</th>\n",
       "      <td>-0.403926</td>\n",
       "      <td>-5.625424</td>\n",
       "      <td>0.500000</td>\n",
       "    </tr>\n",
       "    <tr>\n",
       "      <th>std</th>\n",
       "      <td>1.523264</td>\n",
       "      <td>4.591295</td>\n",
       "      <td>0.527046</td>\n",
       "    </tr>\n",
       "    <tr>\n",
       "      <th>min</th>\n",
       "      <td>-3.073538</td>\n",
       "      <td>-10.726763</td>\n",
       "      <td>0.000000</td>\n",
       "    </tr>\n",
       "    <tr>\n",
       "      <th>25%</th>\n",
       "      <td>-1.123227</td>\n",
       "      <td>-10.373668</td>\n",
       "      <td>0.000000</td>\n",
       "    </tr>\n",
       "    <tr>\n",
       "      <th>50%</th>\n",
       "      <td>-0.306753</td>\n",
       "      <td>-4.735799</td>\n",
       "      <td>0.500000</td>\n",
       "    </tr>\n",
       "    <tr>\n",
       "      <th>75%</th>\n",
       "      <td>0.791934</td>\n",
       "      <td>-1.559918</td>\n",
       "      <td>1.000000</td>\n",
       "    </tr>\n",
       "    <tr>\n",
       "      <th>max</th>\n",
       "      <td>1.532308</td>\n",
       "      <td>-0.118551</td>\n",
       "      <td>1.000000</td>\n",
       "    </tr>\n",
       "  </tbody>\n",
       "</table>\n",
       "</div>"
      ],
      "text/plain": [
       "        feature1   feature2     target\n",
       "count  10.000000  10.000000  10.000000\n",
       "mean   -0.403926  -5.625424   0.500000\n",
       "std     1.523264   4.591295   0.527046\n",
       "min    -3.073538 -10.726763   0.000000\n",
       "25%    -1.123227 -10.373668   0.000000\n",
       "50%    -0.306753  -4.735799   0.500000\n",
       "75%     0.791934  -1.559918   1.000000\n",
       "max     1.532308  -0.118551   1.000000"
      ]
     },
     "execution_count": 5,
     "metadata": {},
     "output_type": "execute_result"
    }
   ],
   "source": [
    "#get general stats on entire dataframe\n",
    "df.describe()"
   ]
  },
  {
   "cell_type": "code",
   "execution_count": 6,
   "metadata": {},
   "outputs": [
    {
     "data": {
      "text/plain": [
       "-0.4039255513756313"
      ]
     },
     "execution_count": 6,
     "metadata": {},
     "output_type": "execute_result"
    }
   ],
   "source": [
    "#get the mean of feature1 only\n",
    "df['feature1'].mean()"
   ]
  },
  {
   "cell_type": "code",
   "execution_count": 7,
   "metadata": {},
   "outputs": [
    {
     "data": {
      "text/html": [
       "<div>\n",
       "<style scoped>\n",
       "    .dataframe tbody tr th:only-of-type {\n",
       "        vertical-align: middle;\n",
       "    }\n",
       "\n",
       "    .dataframe tbody tr th {\n",
       "        vertical-align: top;\n",
       "    }\n",
       "\n",
       "    .dataframe thead th {\n",
       "        text-align: right;\n",
       "    }\n",
       "</style>\n",
       "<table border=\"1\" class=\"dataframe\">\n",
       "  <thead>\n",
       "    <tr style=\"text-align: right;\">\n",
       "      <th></th>\n",
       "      <th>feature1</th>\n",
       "      <th>feature2</th>\n",
       "    </tr>\n",
       "    <tr>\n",
       "      <th>target</th>\n",
       "      <th></th>\n",
       "      <th></th>\n",
       "    </tr>\n",
       "  </thead>\n",
       "  <tbody>\n",
       "    <tr>\n",
       "      <th>0</th>\n",
       "      <td>-1.631205</td>\n",
       "      <td>-9.845827</td>\n",
       "    </tr>\n",
       "    <tr>\n",
       "      <th>1</th>\n",
       "      <td>0.823353</td>\n",
       "      <td>-1.405021</td>\n",
       "    </tr>\n",
       "  </tbody>\n",
       "</table>\n",
       "</div>"
      ],
      "text/plain": [
       "        feature1  feature2\n",
       "target                    \n",
       "0      -1.631205 -9.845827\n",
       "1       0.823353 -1.405021"
      ]
     },
     "execution_count": 7,
     "metadata": {},
     "output_type": "execute_result"
    }
   ],
   "source": [
    "#get the mean of each feature by target value\n",
    "avg = df.groupby(df['target']).mean()\n",
    "avg"
   ]
  },
  {
   "cell_type": "code",
   "execution_count": 10,
   "metadata": {},
   "outputs": [
    {
     "data": {
      "text/plain": [
       "0    5\n",
       "1    5\n",
       "Name: target, dtype: int64"
      ]
     },
     "execution_count": 10,
     "metadata": {},
     "output_type": "execute_result"
    }
   ],
   "source": [
    "#counts = df.groupby(df['target']).count()\n",
    "counts = df['target'].value_counts()\n",
    "counts"
   ]
  },
  {
   "cell_type": "markdown",
   "metadata": {},
   "source": [
    "| Outcome  |   |\n",
    "|----------|---|\n",
    "| No     | 5 |\n",
    "| Yes    | 5 |"
   ]
  },
  {
   "cell_type": "code",
   "execution_count": null,
   "metadata": {},
   "outputs": [],
   "source": [
    "#access sample 4\n",
    "df.iloc[3,:]"
   ]
  },
  {
   "cell_type": "code",
   "execution_count": null,
   "metadata": {},
   "outputs": [],
   "source": [
    "#access samples 5-10 (sample numbers start at 0)\n",
    "df.iloc[4:,:]"
   ]
  },
  {
   "cell_type": "code",
   "execution_count": null,
   "metadata": {},
   "outputs": [],
   "source": [
    "#access just the first feature\n",
    "df.iloc[4:,0]"
   ]
  },
  {
   "cell_type": "code",
   "execution_count": null,
   "metadata": {},
   "outputs": [],
   "source": [
    "#use loc if you use column name\n",
    "df.loc[4:,'feature1']"
   ]
  },
  {
   "cell_type": "code",
   "execution_count": 12,
   "metadata": {},
   "outputs": [
    {
     "data": {
      "image/png": "[encoded data removed]",
      "text/plain": [
       "<Figure size 1080x360 with 1 Axes>"
      ]
     },
     "metadata": {
      "needs_background": "light"
     },
     "output_type": "display_data"
    }
   ],
   "source": [
    "#Visualize data\n",
    "#Create a simple plot of feature 1 and values\n",
    "samples = np.arange(1,11)\n",
    "#figsize is width, height\n",
    "plt.figure(figsize=(15,5))\n",
    "#plot (x, y)\n",
    "#line plot\n",
    "plt.plot(samples,df['feature2'],'m',label=\"feature 2\")\n",
    "#green dots\n",
    "plt.plot(samples,df['feature2'], 'r.')\n",
    "#see documention for more info: https://matplotlib.org/stable/api/_as_gen/matplotlib.pyplot.plot.html\n",
    "plt.plot(samples, df['feature1'],label=\"feature 1\")\n",
    "plt.plot(samples, df['feature1'], 'bo')\n",
    "plt.title(\"Feature 2\")\n",
    "plt.xlabel(\"Sample number\")\n",
    "plt.ylabel(\"Feature 2 Value\")\n",
    "plt.legend()\n",
    "plt.show()\n"
   ]
  },
  {
   "cell_type": "code",
   "execution_count": null,
   "metadata": {},
   "outputs": [],
   "source": [
    "#create multiple plots in one figure\n",
    "fig, ax = plt.subplots(nrows=2, ncols=2,figsize=(15,5))\n",
    "ax[0,0].plot(samples, df['feature1'], '-g')\n",
    "ax[0,1].plot(samples, df['feature1'], 'ro')\n",
    "ax[1,0].plot(samples, df['feature2'], '--r')\n",
    "ax[1,1].plot(samples, df['feature2'], 'bo')\n",
    "fig.suptitle(\"2 Features 4 Ways\")"
   ]
  },
  {
   "cell_type": "code",
   "execution_count": 20,
   "metadata": {},
   "outputs": [
    {
     "data": {
      "image/png": "[encoded data removed]",
      "text/plain": [
       "<Figure size 432x288 with 1 Axes>"
      ]
     },
     "metadata": {
      "needs_background": "light"
     },
     "output_type": "display_data"
    }
   ],
   "source": [
    "#What we want is a histogram of the outcomes\n",
    "#Bar chart does better job here since we only have 2 values of the outcome - 0 or 1\n",
    "counts = df['target'].value_counts()\n",
    "outcomes = (df['target'])\n",
    "#width between bars\n",
    "w = 0.35  \n",
    "plt.bar(x=[0,.4], height=counts, width = w)\n",
    "plt.xticks([0,.4], (\"yes\", 'no'))\n",
    "\n",
    "plt.ylabel('Outcomes')\n",
    "plt.title('Make Blobs Outcomes')\n",
    "\n",
    "plt.show()"
   ]
  },
  {
   "cell_type": "code",
   "execution_count": null,
   "metadata": {},
   "outputs": [],
   "source": [
    "#scatter plot\n",
    "plt.scatter(df['feature1'],df['feature2'])\n",
    "plt.title(\"Scatter Plot of Features\")\n",
    "plt.xlabel('feature1')\n",
    "plt.ylabel('feature2')\n",
    "plt.show()"
   ]
  },
  {
   "cell_type": "code",
   "execution_count": null,
   "metadata": {},
   "outputs": [],
   "source": []
  }
 ],
 "metadata": {
  "kernelspec": {
   "display_name": "Python 3",
   "language": "python",
   "name": "python3"
  },
  "language_info": {
   "codemirror_mode": {
    "name": "ipython",
    "version": 3
   },
   "file_extension": ".py",
   "mimetype": "text/x-python",
   "name": "python",
   "nbconvert_exporter": "python",
   "pygments_lexer": "ipython3",
   "version": "3.8.5"
  }
 },
 "nbformat": 4,
 "nbformat_minor": 4
}
